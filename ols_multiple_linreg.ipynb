{
 "cells": [
  {
   "cell_type": "code",
   "execution_count": null,
   "metadata": {},
   "outputs": [],
   "source": [
    "import numpy as np\n",
    "import pandas as pd\n",
    "from matplotlib import pyplot as plt\n",
    "import seaborn as sns\n",
    "import statsmodels.stats.api as sms\n",
    "import statsmodels.api as sm\n",
    "import scipy as sp\n",
    "from sklearn.linear_model import LinearRegression\n",
    "from sklearn.metrics import mean_squared_error, mean_absolute_error"
   ]
  },
  {
   "cell_type": "code",
   "execution_count": null,
   "metadata": {},
   "outputs": [],
   "source": [
    "def linreg(X, y, intercept):\n",
    "    reg = LinearRegression(fit_intercept=intercept).fit(X, y)\n",
    "    y_pred = reg.predict(X)\n",
    "    est = sm.OLS(y, X)\n",
    "    est2 = est.fit()\n",
    "    print('Score (R^2): ' + f'{reg.score(X, y):.2f}')\n",
    "    print('Intercept: ' + f'{reg.intercept_:.2f}')\n",
    "    print('Coefs: ' + str(reg.coef_))\n",
    "    print('MSE: ' + f'{mean_squared_error(y, y_pred):.2f}')\n",
    "    print('RMSE: ' + f'{mean_squared_error(y, y_pred, squared=False):.2f}')\n",
    "    print('MAE: ' + f'{mean_absolute_error(y, y_pred):.2f}')\n",
    "    print(est2.summary())\n",
    "    plt.figure(figsize=(10,6))\n",
    "    plt.plot([0, 40], [0, 40], color='red', lw=2, linestyle='--', label='Perfect Fit')\n",
    "    plt.scatter(y, y_pred)\n",
    "    plt.xlabel('y_true')\n",
    "    plt.ylabel('y_pred')\n",
    "    plt.legend()\n",
    "    residual = y - y_pred\n",
    "    fig, ax = plt.subplots(figsize=(8,4))\n",
    "    _, (__, ___, r) = sp.stats.probplot(residual, plot=ax, fit=True)\n",
    "    ax.set_title('Probability plot (assessing how the data (error) depart from normality)')"
   ]
  },
  {
   "cell_type": "code",
   "execution_count": null,
   "metadata": {},
   "outputs": [],
   "source": [
    "tasks = ['task_1', 'task_2', 'task_3', 'task_4', 'task_5']\n",
    "\n",
    "fig, axs = plt.subplots(nrows=len(tasks), ncols=1, figsize=(20, len(tasks)*5))\n",
    "\n",
    "for i in range(len(tasks)):\n",
    "    x = df[tasks[i]].loc[df[tasks[i]]!=0]\n",
    "    y = df['y_diff1'].loc[df[tasks[i]]!=0]\n",
    "    ax = sns.scatterplot(x=x, y=y, color='blue', ax=axs[i])\n",
    "    ax.plot([0, max(df[tasks[i]])], [0, 0], color='red', lw=2, linestyle='--', label='Perfect Fit')\n",
    "    ax.set_title(tasks[i])\n",
    "    ax.set_xlabel('')\n",
    "    ax.set_ylabel('Diff: y_true - y_pred')\n",
    "    ax.legend()"
   ]
  }
 ],
 "metadata": {
  "kernelspec": {
   "display_name": "Python 3",
   "language": "python",
   "name": "python3"
  },
  "language_info": {
   "codemirror_mode": {
    "name": "ipython",
    "version": 3
   },
   "file_extension": ".py",
   "mimetype": "text/x-python",
   "name": "python",
   "nbconvert_exporter": "python",
   "pygments_lexer": "ipython3",
   "version": "3.8.5"
  }
 },
 "nbformat": 4,
 "nbformat_minor": 4
}
