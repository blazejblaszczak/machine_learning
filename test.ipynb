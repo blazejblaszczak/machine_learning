def test(name):
  hello = 'Hello world dear ' + name
  return hello
 
print(hello)
